{
 "cells": [
  {
   "cell_type": "markdown",
   "metadata": {},
   "source": [
    "# Trim a webnucleo network XML file relative to the naturally occurring isotopes.\n",
    "The goal of this notebook is to trim a webnucleo network xml file relative to the naturally occurring isotopes.  Choose the range of isotopes either proton-rich or neutron-rich (or both) of the naturally occurring isotopes.  Don't worry if your notebook instance gets corrupted. Simply quit and download a new copy from GitHub, or start up a new version on Google Colab."
   ]
  },
  {
   "cell_type": "markdown",
   "metadata": {},
   "source": [
    "Begin by installing and importing the necessary python libraries"
   ]
  },
  {
   "cell_type": "code",
   "execution_count": 1,
   "metadata": {},
   "outputs": [],
   "source": [
    "import sys, io, requests\n",
    "\n",
    "!{sys.executable} -m pip install --quiet numpy\n",
    "!{sys.executable} -m pip install --quiet wnutils\n",
    "\n",
    "import numpy as np\n",
    "import wnutils.xml as wx"
   ]
  },
  {
   "cell_type": "markdown",
   "metadata": {},
   "source": [
    "Retrieve the JINA Reaclib nuclear data from [OSF](https://osf.io/kyhbs/).  Adjust XPath expressions for nuclear and reaction data, if desired."
   ]
  },
  {
   "cell_type": "code",
   "execution_count": 2,
   "metadata": {},
   "outputs": [],
   "source": [
    "nuc_xpath = ''\n",
    "reac_xpath = ''\n",
    "\n",
    "xml = wx.Xml(io.BytesIO(requests.get('https://osf.io/kyhbs/download').content))\n",
    "\n",
    "nuc_data = xml.get_nuclide_data(nuc_xpath)\n",
    "reac_data = xml.get_reaction_data(reac_xpath)"
   ]
  },
  {
   "cell_type": "markdown",
   "metadata": {},
   "source": [
    "Retrieve the Solar System data."
   ]
  },
  {
   "cell_type": "code",
   "execution_count": 3,
   "metadata": {},
   "outputs": [],
   "source": [
    "solar = wx.Xml(io.BytesIO(requests.get('https://osf.io/j67qa/download').content))\n",
    "solar_zone_data = solar.get_zone_data()"
   ]
  },
  {
   "cell_type": "markdown",
   "metadata": {},
   "source": [
    "Create arrays of maximum and minimum A values for each Z.  Adjust values for Technetium (Z = 43) and Promethium (Z = 61)."
   ]
  },
  {
   "cell_type": "code",
   "execution_count": 4,
   "metadata": {},
   "outputs": [],
   "source": [
    "a_min = np.full(84, 1000)\n",
    "a_max = np.full(84, 0)\n",
    "\n",
    "for tup in solar_zone_data['0']['mass fractions']:\n",
    "    z = tup[1]\n",
    "    a = tup[2]\n",
    "    if z < 84:\n",
    "        if a > a_max[z]:\n",
    "            a_max[z] = a\n",
    "        if a < a_min[z]:\n",
    "            a_min[z] = a\n",
    "            \n",
    "a_min[43] = a_min[42]\n",
    "a_max[43] = a_max[44]\n",
    "\n",
    "a_min[61] = a_min[60]\n",
    "a_max[61] = a_max[62]"
   ]
  },
  {
   "cell_type": "markdown",
   "metadata": {},
   "source": [
    "Set *d_min* and *d_max*.  Exclude isotopes outside the range *A_min - d_min* and *A_max + d_max* for each element.  To include all nuclides, set *d_min* and *d_max* to large values (say, 1000).  The cell works from a copy of the original nuclide data, so after the full notebook is run, it is sufficient to change parameters in and execute this cell and those below."
   ]
  },
  {
   "cell_type": "code",
   "execution_count": 5,
   "metadata": {},
   "outputs": [],
   "source": [
    "d_min = 0\n",
    "d_max = 10\n",
    "\n",
    "nuc_data_work = nuc_data.copy()\n",
    "\n",
    "for key, value in dict(nuc_data_work).items():\n",
    "    z = value['z']\n",
    "    a = value['a']\n",
    "    if z > 83 or a < (a_min[z] - d_min) or a > (a_max[z] + d_max):\n",
    "        del nuc_data_work[key]"
   ]
  },
  {
   "cell_type": "markdown",
   "metadata": {},
   "source": [
    "Write out the new network XML file.  Adjust *my_output_xml* to your desired output XML name.  The file will be written in the working directory.  To download from Colab, click on the file tab to the left."
   ]
  },
  {
   "cell_type": "code",
   "execution_count": 6,
   "metadata": {},
   "outputs": [],
   "source": [
    "my_output_xml = 'my_output.xml'\n",
    "\n",
    "new_xml = wx.New_Xml('nuclear_network')\n",
    "new_xml.set_nuclide_data(nuc_data_work)\n",
    "new_xml.set_reaction_data(reac_data)\n",
    "\n",
    "new_xml.write(my_output_xml)"
   ]
  },
  {
   "cell_type": "code",
   "execution_count": null,
   "metadata": {},
   "outputs": [],
   "source": []
  }
 ],
 "metadata": {
  "interpreter": {
   "hash": "fd578b525fe7fcca8a3ea11350d18bcbeb29af20bd1df15f6c5fd2c9cf111483"
  },
  "kernelspec": {
   "display_name": "Python 3",
   "language": "python",
   "name": "python3"
  },
  "language_info": {
   "codemirror_mode": {
    "name": "ipython",
    "version": 3
   },
   "file_extension": ".py",
   "mimetype": "text/x-python",
   "name": "python",
   "nbconvert_exporter": "python",
   "pygments_lexer": "ipython3",
   "version": "3.7.12"
  }
 },
 "nbformat": 4,
 "nbformat_minor": 2
}
